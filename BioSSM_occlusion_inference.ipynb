{
 "cells": [
  {
   "cell_type": "code",
   "execution_count": 2,
   "metadata": {},
   "outputs": [],
   "source": [
    "import os, sys\n",
    "os.environ[\"MKL_NUM_THREADS\"]='12' \n",
    "os.environ[\"NUMEXPR_NUM_THREADS\"]='12'\n",
    "os.environ[\"OMP_NUM_THREADS\"]='12'\n",
    "\n",
    "import matplotlib.pyplot as plt\n",
    "import numpy as np\n",
    "from tqdm import trange, tqdm_notebook\n",
    "from Datasets import LatentDynamics, Observations, SSM\n",
    "from Inferences import SMC\n",
    "from DDC import Features, DDC, DDCSSM, Regressors\n",
    "import Utils\n",
    "from copy import deepcopy\n",
    "from collections import OrderedDict\n",
    "import torch\n",
    "from settings import CTX\n",
    "import matplotlib as mpl\n",
    "\n",
    "if sys.version_info[0] > 2:\n",
    "    from importlib import reload\n",
    "\n",
    "%matplotlib inline"
   ]
  },
  {
   "cell_type": "code",
   "execution_count": 4,
   "metadata": {},
   "outputs": [],
   "source": [
    "\n",
    "SMALL_SIZE = 8\n",
    "MEDIUM_SIZE = 12\n",
    "BIGGER_SIZE = 14\n",
    "\n",
    "plt.rc('font', size=BIGGER_SIZE)          # controls default text sizes\n",
    "plt.rc('axes', titlesize=BIGGER_SIZE)     # fontsize of the axes title\n",
    "plt.rc('axes', labelsize=BIGGER_SIZE)    # fontsize of the x and y labels\n",
    "plt.rc('xtick', labelsize=BIGGER_SIZE)    # fontsize of the tick labels\n",
    "plt.rc('ytick', labelsize=BIGGER_SIZE)    # fontsize of the tick labels\n",
    "plt.rc('legend', fontsize=MEDIUM_SIZE)    # legend fontsize\n",
    "plt.rc('figure', titlesize=BIGGER_SIZE)  # fontsize of the figure title"
   ]
  },
  {
   "cell_type": "code",
   "execution_count": 5,
   "metadata": {
    "scrolled": false
   },
   "outputs": [
    {
     "name": "stderr",
     "output_type": "stream",
     "text": [
      "/nfs/nhome/live/kevinli/Code/ddc_ssm/Datasets/LatentDynamics.py:688: RuntimeWarning: divide by zero encountered in log\n",
      "  self.ps[\"m\"] = torch.tensor( np.log(p/(1-p)), **CTX)\n"
     ]
    },
    {
     "data": {
      "text/plain": [
       "Text(0.5, 0, 'time')"
      ]
     },
     "execution_count": 5,
     "metadata": {},
     "output_type": "execute_result"
    },
    {
     "data": {
      "image/png": "[encoded data removed]",
      "text/plain": [
       "<Figure size 864x216 with 2 Axes>"
      ]
     },
     "metadata": {
      "needs_background": "light"
     },
     "output_type": "display_data"
    }
   ],
   "source": [
    "np.random.seed(1)\n",
    "torch.manual_seed(2)\n",
    "\n",
    "Dx = 3\n",
    "D = Dx+2\n",
    "init_noise_std = 0.0\n",
    "\n",
    "Z = LatentDynamics.FactorialHMM([0.0,0.2,0.0,0.2]*1+[0.0],2)\n",
    "X = Observations.OccludedToneObservation([0.05]*Dx)\n",
    "true_model = SSM.StateSpaceModel(Z,X,init_noise_std, init_fun=lambda n: torch.zeros(n,D, **CTX))\n",
    "\n",
    "\n",
    "'''\n",
    "infer_model.ps[3:] += np.random.randn(*infer_model.ps[3:].shape)*1\n",
    "latent_idx = infer_model.pp.idxs_and_shapes['lat'][0]\n",
    "#infer_model.ps[latent_idx]=true_model.ps[latent_idx]\n",
    "infer_model.sync_ps()\n",
    "'''\n",
    "\n",
    "T = 100\n",
    "nchain = 1\n",
    "data = true_model.sample(T,1)\n",
    "fig,axes = plt.subplots(2,1, figsize=(12,3), sharex=True)\n",
    "\n",
    "ax = axes[0]\n",
    "ax.step(np.arange(T)+0.5, data[\"zt\"][:,0,1].cpu().numpy()*2, lw=2, label=\"tone\")\n",
    "ax.step(np.arange(T)+0.5, np.clip(data[\"zt\"][:,0,3].cpu().numpy()*2-0.5,0,3), lw=2, color=\"r\", label=\"mask\")\n",
    "ax.set_ylim(0,5)\n",
    "ax.set_title(\"latent state\")\n",
    "ax.legend(frameon=False, ncol=2, loc=\"upper left\", bbox_to_anchor=(0.1,1.0))\n",
    "ax = axes[1]\n",
    "im = ax.imshow(data[\"xt\"].cpu().numpy()[:,0,:].T, aspect=\"auto\")\n",
    "ax.set_yticks([])\n",
    "ax.set_title(\"observations\")\n",
    "ax.set_xlabel(\"time\")\n",
    "#fig.savefig(\"figs/tone_example.pdf\")"
   ]
  },
  {
   "cell_type": "code",
   "execution_count": 6,
   "metadata": {},
   "outputs": [
    {
     "data": {
      "image/png": "[encoded data removed]",
      "text/plain": [
       "<Figure size 432x72 with 1 Axes>"
      ]
     },
     "metadata": {
      "needs_background": "light"
     },
     "output_type": "display_data"
    },
    {
     "data": {
      "image/png": "[encoded data removed]",
      "text/plain": [
       "<Figure size 432x72 with 1 Axes>"
      ]
     },
     "metadata": {
      "needs_background": "light"
     },
     "output_type": "display_data"
    },
    {
     "data": {
      "image/png": "[encoded data removed]",
      "text/plain": [
       "<Figure size 432x72 with 1 Axes>"
      ]
     },
     "metadata": {
      "needs_background": "light"
     },
     "output_type": "display_data"
    },
    {
     "data": {
      "image/png": "[encoded data removed]",
      "text/plain": [
       "<Figure size 432x72 with 1 Axes>"
      ]
     },
     "metadata": {
      "needs_background": "light"
     },
     "output_type": "display_data"
    },
    {
     "data": {
      "image/png": "[encoded data removed]",
      "text/plain": [
       "<Figure size 432x72 with 1 Axes>"
      ]
     },
     "metadata": {
      "needs_background": "light"
     },
     "output_type": "display_data"
    },
    {
     "data": {
      "image/png": "[encoded data removed]",
      "text/plain": [
       "<Figure size 432x72 with 1 Axes>"
      ]
     },
     "metadata": {
      "needs_background": "light"
     },
     "output_type": "display_data"
    }
   ],
   "source": [
    "nexp =6\n",
    "manual_data = torch.zeros(20, nexp, D, **CTX)\n",
    "\n",
    "counter = 0\n",
    "\n",
    "\n",
    "# 0  no mask\n",
    "manual_data[:,counter,1] = torch.cat([\n",
    "                         torch.zeros(4), torch.ones(12)*1,torch.zeros(4)\n",
    "                        ])[:T]\n",
    "\n",
    "counter +=1 \n",
    "\n",
    "\n",
    "# 1  masked continuation\n",
    "\n",
    "manual_data[:,counter,1] = torch.tensor([0]*4+[1]*2+[0]*8+[1]*2+[0]*4)\n",
    "\n",
    "manual_data[:,counter,-2] = torch.cat([\n",
    "                         torch.zeros(6), torch.ones(8)*2, torch.zeros(6), \n",
    "                        ])[:T]\n",
    "manual_data[:,counter,-1] = torch.tensor([0]*6+[2]*8+[0]*6)\n",
    "\n",
    "counter +=1 \n",
    "\n",
    "# 2  masked continuation delayed supression\n",
    "\n",
    "manual_data[:,counter,1] = torch.tensor([0]*4+[1]*2+[0]*9+[1]*2+[0]*3)\n",
    "\n",
    "manual_data[:,counter,-2] = torch.cat([torch.zeros(6), torch.ones(8)*2, torch.zeros(6)])[:T]\n",
    "manual_data[:,counter,-1] = torch.tensor([0]*6+[2]*8+[0]*6)\n",
    "\n",
    "counter +=1 \n",
    "\n",
    "# 3  high tone, lower\n",
    "\n",
    "manual_data[:,counter,1] = torch.tensor([0]*4+[2]*2+[0]*8+[2]*2+[0]*4)\n",
    "\n",
    "manual_data[:,counter,-2] = torch.cat([\n",
    "                         torch.zeros(6), torch.ones(8)*2, torch.zeros(6), \n",
    "                        ])[:T]\n",
    "manual_data[:,counter,-1] = torch.tensor([0]*6+[2]*8+[0]*6)\n",
    "\n",
    "counter +=1 \n",
    "\n",
    "# 4  high tone, low mask\n",
    "\n",
    "manual_data[:,counter,1] = torch.cat([\n",
    "                         torch.zeros(4), torch.ones(2)*2,torch.zeros(8), torch.ones(2)*2,torch.zeros(4)\n",
    "                        ])[:T]\n",
    "\n",
    "manual_data[:,counter,-2] = torch.cat([\n",
    "                         torch.zeros(6), torch.ones(8)*1, torch.zeros(6), \n",
    "                        ])[:T]\n",
    "manual_data[:,counter,-1] = torch.tensor([0]*6+[2]*8+[0]*6)\n",
    "\n",
    "counter +=1 \n",
    "\n",
    "# 5  tone changes\n",
    "\n",
    "\n",
    "manual_data[:,counter,1] = torch.cat([torch.zeros(4),torch.ones(2),torch.zeros(8),\n",
    "                                      torch.ones(2)*2,torch.zeros(4)])[:T]\n",
    "\n",
    "manual_data[:,counter,-2] = torch.cat([\n",
    "                         torch.zeros(6), torch.ones(8)*2, torch.zeros(6), \n",
    "                        ])[:T]\n",
    "manual_data[:,counter,-1] = torch.tensor([0]*6+[2]*8+[0]*6)\n",
    "     \n",
    "\n",
    "'''\n",
    "counter +=1 \n",
    "\n",
    "manual_data[:,counter,1] = torch.cat([torch.zeros(4),torch.ones(12)*2,torch.zeros(4)])[:T]\n",
    "\n",
    "manual_data[:,counter,-2] = torch.tensor([0]*6+[2,1]*4+[0]*6)\n",
    "manual_data[:,counter,-1] = torch.tensor([0]*6+[2]*8+[0]*6)\n",
    "\n",
    "\n",
    "counter +=1 \n",
    "\n",
    "manual_data[:,counter,1] = torch.cat([torch.zeros(4),torch.ones(12),torch.zeros(4)])[:T]\n",
    "manual_data[:,counter,-2] = torch.tensor([0]*6+[2,2]*4+[0]*6)\n",
    "manual_data[:,counter,-1] = torch.tensor([0]*6+[1]*8+[0]*6)\n",
    "\n",
    "\n",
    "counter +=1 \n",
    "\n",
    "manual_data[:,counter,1] = torch.cat([torch.zeros(4),torch.ones(12),torch.zeros(4)])[:T]\n",
    "\n",
    "manual_data[:,counter,-2] = torch.tensor([0]*6+[2,2]*4+[0]*6)\n",
    "manual_data[:,counter,-1] = torch.tensor([0]*6+[2]*8+[0]*6)\n",
    "\n",
    "counter +=1 \n",
    "'''\n",
    "#manual_data[:,counter,-1] = torch.tensor([0]*6+[2,1]*4+[0]*6, **CTX )\n",
    "\n",
    "# high tone low noise\n",
    "\n",
    "#  mask\n",
    "\n",
    "\n",
    "manual_data = manual_data[::2]\n",
    "\n",
    "for i in range(nexp):\n",
    "    plt.figure(figsize=(6,1))\n",
    "    plt.imshow(manual_data[:,i,:].t().cpu().numpy(), aspect=\"auto\")"
   ]
  },
  {
   "cell_type": "code",
   "execution_count": 7,
   "metadata": {},
   "outputs": [],
   "source": [
    "M = 15\n",
    "init_std = 1.0\n",
    "map_z = Features.ContinuousFeature(M, true_model.latent.D, init_std, [-1, 3], lam=1e-6)\n",
    "\n",
    "map_zz = Features.ContinuousFeature(M, true_model.latent.D*2, init_std, [-1, 3], lam=1e-6)\n",
    "map_x = Features.ContinuousFeature(10, true_model.observation.D, init_std, [-1, 3], lam=1e-6)\n",
    "\n",
    "fs ={ \"xt\":   map_x,\n",
    "      \"zt\":   deepcopy(map_z),\n",
    "      \"zt-1\": deepcopy(map_z)\n",
    "}\n",
    "\n",
    "fs_pair ={ \n",
    "      \"xt\": map_x,\n",
    "      \"zt\":   deepcopy(map_z),\n",
    "      \"zt-1\": deepcopy(map_z),\n",
    "      \"zzt\": map_zz,\n",
    "}\n",
    "\n",
    "T_train = 80\n",
    "T_fall  = 10\n",
    "T_test  = 10\n",
    "T = T_train + T_test + T_fall\n",
    "\n",
    "torch.manual_seed(3)\n",
    "\n",
    "nsleep = 20000\n",
    "nwake = nexp\n",
    "test_data = {}\n",
    "\n",
    "test_data[\"zt\"] = torch.cat([torch.zeros(T_train,nexp,D,**CTX),manual_data,torch.zeros(T_fall,nexp,D,**CTX)], 0)\n",
    "test_data[\"zt-1\"] = test_data[\"zt\"]\n",
    "test_data[\"xt\"] = true_model.observation.sample(test_data[\"zt\"])"
   ]
  },
  {
   "cell_type": "code",
   "execution_count": 8,
   "metadata": {},
   "outputs": [],
   "source": [
    "def samples_to_hist(samples, weights, edges):\n",
    "    \n",
    "    # length, nchain and sample size\n",
    "    T, C, N = weights.shape\n",
    "    E = len(edges)-1\n",
    "\n",
    "    posts = np.zeros((T, C, E))\n",
    "    for ci in range(C):\n",
    "        for t in range(T):\n",
    "            posts[t,ci] = np.histogram(samples[t,ci,:,0],\n",
    "                                          weights=weights[t,ci,:],bins=edges, \n",
    "                                       \n",
    "                                          normed=True)[0]\n",
    "    return posts\n",
    "\n",
    "samples, weights = SMC.filtering_bootstrap(true_model, test_data[\"xt\"][:,:,:], nsample=3000)\n",
    "pf_pm = torch.sum(weights[...,None] * samples, -2).cpu().detach().numpy()"
   ]
  },
  {
   "cell_type": "code",
   "execution_count": 9,
   "metadata": {},
   "outputs": [
    {
     "data": {
      "application/vnd.jupyter.widget-view+json": {
       "model_id": "b17af92b284b4d2b8a7a86d118fa3e67",
       "version_major": 2,
       "version_minor": 0
      },
      "text/plain": [
       "HBox(children=(IntProgress(value=0), HTML(value='')))"
      ]
     },
     "metadata": {},
     "output_type": "display_data"
    },
    {
     "name": "stdout",
     "output_type": "stream",
     "text": [
      "\n"
     ]
    }
   ],
   "source": [
    "\n",
    "drd_dict = {}\n",
    "ddcs = OrderedDict()\n",
    "\n",
    "reg = Regressors.LinearRegressor(fs, lam=1e-5, tensor_op='*')\n",
    "reg_pair = Regressors.LinearRegressor(fs_pair, lam=1e-5, tensor_op='*')\n",
    "\n",
    "fun_data = torch.rand(5000,D, **CTX)*3-1.5\n",
    "reg.fs[\"zt\"].learn_fun(\"Ez\",   fun_data, fun_data)\n",
    "reg.fs[\"zt-1\"].learn_fun(\"Ez\", fun_data, fun_data)\n",
    "\n",
    "\n",
    "# ddcs[\"drd_fil\"] = DDCSSM.DistributionRegression(true_model, reg, nsleep=nsleep, \n",
    "#                                     nwake=nwake, plastic=[True,True], stationary=False, \n",
    "#                                                 smoothing=True, nretain=None)\n",
    "\n",
    "ddcs[\"drd_pair\"] = DDCSSM.DecayDistributionRegression([1]*10, true_model, reg_pair, nsleep=nsleep, \n",
    "                                    nwake=nwake, plastic=[True,True], stationary=False, \n",
    "                                                        nretain=None, \n",
    "                                                        look_back=10)\n",
    "\n",
    "\n",
    "\n",
    "ps = OrderedDict()\n",
    "\n",
    "for dn in ddcs:\n",
    "    \n",
    "    ddc = ddcs[dn]\n",
    "    ddc.initialise(test_data[\"xt\"][0])\n",
    "    \n",
    "for t in tqdm_notebook(range(1,T+1)):\n",
    "\n",
    "    for dn, ddc in ddcs.items():\n",
    "        \n",
    "        if t <= T_train:\n",
    "            ddc.sleep_train_test()\n",
    "        else:\n",
    "            ddc.sleep_test()\n",
    "        #print(dict([(k[-2:], v.cpu().numpy().round(3)) for k,v in ddc.reg.R2s.items()]))\n",
    "        ddc.reg.R2s={}\n",
    "        if t < T:\n",
    "            ddc.propagate(test_data[\"xt\"][t])\n",
    "            ddc.reg.R2s={}\n",
    "\n",
    "for dn, ddc in ddcs.items():\n",
    "    if ddc.smoothing==True:\n",
    "        ddc.smooth()     \n",
    "    \n",
    "for dn in ddcs:\n",
    "\n",
    "    ddcs[dn].finalise()"
   ]
  },
  {
   "cell_type": "code",
   "execution_count": 10,
   "metadata": {},
   "outputs": [],
   "source": [
    "from Utils import decode\n",
    "import itertools\n",
    "\n",
    "support_2 = np.array(list(itertools.product([0,1,2],repeat=2)))\n",
    "support = np.zeros(support_2.shape[:1] + (5,))\n",
    "support[:,[1,3]] = support_2\n",
    "\n",
    "f_W = ddc.reg.fs[\"zt\"].W.cpu().numpy()\n",
    "f_b = ddc.reg.fs[\"zt\"].b.cpu().numpy()\n",
    "\n",
    "\n",
    "p_tone_t = np.full((nexp,(T_test)*4,10), np.nan)\n",
    "p_mask_t = np.full((nexp,(T_test)*4,10), np.nan)\n",
    "\n",
    "for ei in range(nexp):\n",
    "    \n",
    "    for t_real in range(T_test):\n",
    "        \n",
    "        f = ddc.sleep_history[\"fzzt\"][T_train+t_real]\n",
    "        # joint over tone and mask\n",
    "        joint_m = ddc.wake_history[\"mzzt_x1:t\"][T_train+t_real] \n",
    "        for t in range(t_real+1):    \n",
    "\n",
    "            # projecting joint feature at time t to singletons at t\n",
    "            y = ddc.reg.fs[\"zt\"](torch.tensor(ddc.sleep_history[\"zt\"][T_train+t], **CTX)).cpu().numpy()\n",
    "            W = np.linalg.solve( f.T @ f, f.T @ y)\n",
    "            marginal_m = joint_m @ W\n",
    "\n",
    "            def phi_fun(x):\n",
    "                return np.tanh(x[None]@f_W + f_b)[0]\n",
    "\n",
    "\n",
    "            # store probabilities for each experiment\n",
    "\n",
    "            joint_p = decode(marginal_m[ei], phi_fun, support)\n",
    "            p_tone_t[ei,4*t_real:4*t_real+3,t] = joint_p.reshape(3,3).sum(1)[::-1]\n",
    "            p_mask_t[ei,4*t_real:4*t_real+3,t] = joint_p.reshape(3,3).sum(0)[::-1]"
   ]
  },
  {
   "cell_type": "code",
   "execution_count": 11,
   "metadata": {},
   "outputs": [],
   "source": [
    "ddcs[\"drd_pair\"].wake_history.data[\"Ezt-0_x1:t\"] = ddcs[\"drd_pair\"].wake_history.data[\"Ezt_x1:t\"]"
   ]
  },
  {
   "cell_type": "code",
   "execution_count": 12,
   "metadata": {},
   "outputs": [],
   "source": [
    "test_z = test_data[\"zt\"].cpu().numpy()\n",
    "test_x = test_data[\"xt\"].cpu().numpy()\n",
    "ddc_keys = []\n",
    "ddc_means = []\n",
    "nlag = 11\n",
    "for i in range(0, nlag):\n",
    "    ddc_keys += \"Ezt-%d_x1:t\"%i,\n",
    "    ddc_means += np.r_[ddcs[\"drd_pair\"].wake_history.data[\"Ezt-%d_x1:t\"%i].clip(0,2),\n",
    "                           np.full((i, nexp, D),np.nan)],\n",
    "\n",
    "noise_x = true_model.observation.ps[\"noise_std\"].exp()[0].cpu().numpy()\n",
    "# np.savez(\"figs/tone_cool_data_n%02d\"%(np.round(noise_x*100)), test_z=test_z, T_train=T_train, T_fall=T_fall,\n",
    "#         nexp=nexp, nlag=nlag, test_x=test_x, ddc_keys=ddc_keys, ddc_means=ddc_means,\n",
    "#         pf_pm=pf_pm, T_test=T_test,p_tone_t=p_tone_t, samples_t=samples_t, distances=distances,\n",
    "#         nsample=nsample, p_mask_t=p_mask_t)"
   ]
  },
  {
   "cell_type": "code",
   "execution_count": 13,
   "metadata": {},
   "outputs": [],
   "source": [
    "# locals().update(dict(np.load(\"figs/tone_cool_data_n%02d.npz\"%(np.round(noise_x*100)))))"
   ]
  },
  {
   "cell_type": "code",
   "execution_count": 14,
   "metadata": {},
   "outputs": [
    {
     "data": {
      "text/plain": [
       "Text(0, 0.5, 'probability')"
      ]
     },
     "execution_count": 14,
     "metadata": {},
     "output_type": "execute_result"
    },
    {
     "data": {
      "image/png": "[encoded data removed]",
      "text/plain": [
       "<Figure size 864x1080 with 19 Axes>"
      ]
     },
     "metadata": {
      "needs_background": "light"
     },
     "output_type": "display_data"
    }
   ],
   "source": [
    "\n",
    "from matplotlib.patches import ConnectionPatch\n",
    "\n",
    "ddcs_hists = dict(zip(ddc_keys, ddc_means))\n",
    "T = T_train+T_fall + T_test\n",
    "height_ratios = np.array([0.05,0.07,0.88]*2)\n",
    "ddc_hists = dict(zip(ddc_keys, ddc_means))\n",
    "fig, axes = plt.subplots(6,nexp//2,figsize=(2*nexp,15), sharex=False, \n",
    "                         gridspec_kw=dict(height_ratios=height_ratios))\n",
    "\n",
    "SMALL_SIZE = 8\n",
    "MEDIUM_SIZE = 12\n",
    "BIGGER_SIZE = 14\n",
    "\n",
    "plt.rc('font', size=BIGGER_SIZE)          # controls default text sizes\n",
    "plt.rc('axes', titlesize=BIGGER_SIZE)     # fontsize of the axes title\n",
    "plt.rc('axes', labelsize=BIGGER_SIZE)    # fontsize of the x and y labels\n",
    "plt.rc('xtick', labelsize=BIGGER_SIZE)    # fontsize of the tick labels\n",
    "plt.rc('ytick', labelsize=BIGGER_SIZE)    # fontsize of the tick labels\n",
    "plt.rc('legend', fontsize=MEDIUM_SIZE)    # legend fontsize\n",
    "plt.rc('figure', titlesize=BIGGER_SIZE)  # fontsize of the figure title\n",
    "\n",
    "ncols = axes.shape[-1]\n",
    "for batch_idx in range(nexp):\n",
    "    dim_idx = 1\n",
    "    \n",
    "    row = (batch_idx//ncols)*3\n",
    "    col = int(batch_idx % ncols)\n",
    "    ax = axes[row, col]\n",
    "    ax.step(np.arange(T)+0.5,test_z[:,batch_idx,dim_idx], label=\"tone\", lw=2, alpha=0.6)\n",
    "    ax.step(np.arange(T)+0.5,(test_z[:,batch_idx,-2]-0.5).clip(0,2), label=\"mask\", lw=2, color=\"red\")\n",
    "    ax.set_yticks([])\n",
    "    ax.set_xticks([])\n",
    "    ax.set_ylim(-0.2,2.2)\n",
    "    ax.set_xlim(T_train,T-1-T_fall)\n",
    "    ax.spines['top'].set_visible(False)\n",
    "    ax.spines['right'].set_visible(False)\n",
    "    ax.spines['bottom'].set_visible(False)\n",
    "    ax.spines['left'].set_visible(False)\n",
    "    ax.set_xticks([])\n",
    "    ax.text(0.1+T_train,1.0,chr(65+batch_idx), fontsize=20, fontweight=\"heavy\")\n",
    "    \n",
    "    if batch_idx == 3:\n",
    "        ax.legend(frameon=False, ncol=2, bbox_to_anchor=[0.5,2.5], loc=\"upper center\")\n",
    "        \n",
    "        \n",
    "    row = (batch_idx//ncols)*3+1\n",
    "    col = int(batch_idx % ncols)\n",
    "    ax = axes[row, col]\n",
    "    ax.imshow(test_x[:,batch_idx,:].T, aspect=\"auto\", vmin=0, vmax=2, cmap=\"gray\")\n",
    "    ax.set_yticks([])\n",
    "    ax.set_xlim(T_train,T-1-T_fall)\n",
    "\n",
    "    ax.set_xticks([])\n",
    "    #ax.plot(pf_pm[:,batch_idx,dim_idx], \":\", label=\"pf\")\n",
    "    #axes[d].plot(static.test_history.data[\"Ezt_x1:t\"][:,batch_idx,d], label=\"sta\")\n",
    "    ddc_rec_m =ddc_hists[\"Ezt-0_x1:t\"][:,batch_idx,dim_idx].clip(0,2)\n",
    "\n",
    "    im = [pf_pm[:,batch_idx,dim_idx],ddc_rec_m]\n",
    "    for i in range(1,nlag,1):\n",
    "        im += ddc_hists[\"Ezt-%d_x1:t\"%i][:,batch_idx,dim_idx].clip(0,2),\n",
    "        \n",
    "    row = (batch_idx//ncols)*3+2\n",
    "    ax = axes[row, col]\n",
    "\n",
    "    \n",
    "    im = ax.pcolormesh(range(T_test+1), range(T_test*4+1)[::-1], p_tone_t[batch_idx], \n",
    "                       cmap=\"viridis\", edgecolor=\"w\")\n",
    "    \n",
    "    \n",
    "    ax.spines['top'].set_visible(False)\n",
    "    ax.spines['right'].set_visible(False)\n",
    "    ax.spines['bottom'].set_visible(False)\n",
    "    ax.spines['left'].set_visible(False)\n",
    "    #im = in_ax.imshow(im, aspect=\"auto\", vmin=0, vmax=2)\n",
    "    ax.set_yticks([])\n",
    "    ax.set_xticks([])\n",
    "    \n",
    "    \n",
    "    in_ax = ax.inset_axes([0.6,0.53,0.5,0.48])\n",
    "    in_ax.pcolormesh(range(T_test+1), range(T_test*4+1)[::-1], p_mask_t[batch_idx], \n",
    "                   cmap=\"viridis\", edgecolor=\"w\", linewidth=0.3)\n",
    "    \n",
    "    in_ax.spines['top'].set_visible(False)\n",
    "    in_ax.spines['right'].set_visible(False)\n",
    "    in_ax.spines['bottom'].set_visible(False)\n",
    "    in_ax.spines['left'].set_visible(False)\n",
    "    #im = in_ax.imshow(im, aspect=\"auto\", vmin=0, vmax=2)\n",
    "    in_ax.set_yticks([])\n",
    "    in_ax.set_xticks([])\n",
    "        \n",
    "#     ax.plot([2,2],[0.5,40-8], \":C0\")\n",
    "#     ax.plot([8,8],[0.5,40-32], \":C0\")\n",
    "    \n",
    "#     ax.plot([3,3],[0.5,40-12], \":r\")\n",
    "#     ax.plot([7,7],[0.5,40-28], \":r\")\n",
    "    \n",
    "\n",
    "axes[-3,0].set_ylabel(\"state\")\n",
    "axes[-2,0].set_ylabel(\"freq\")\n",
    "# axes[-1,0].set_yticks(range(12))\n",
    "# axes[-1,0].set_yticklabels([\"exact\"] + [\"%d\"%i if i % 5 == 0 else \"\" for i in range(11)],\n",
    "#                           fontsize=13)\n",
    "# axes[-1,0].set_ylabel(r\"$\\tau$\", labelpad=-20)\n",
    "\n",
    "# axes[-1,0].set_xticks(range(T_train,T-T_fall,5))\n",
    "# axes[-1,0].set_xticklabels(range(0,T-T_train-T_fall,5))\n",
    "ax = axes[-1,0]\n",
    "axes[-1,0].set_xlabel(\"stimulus time\")\n",
    "axes[-1,0].set_yticks(np.arange(2.5,42.5,4))\n",
    "axes[-1,0].set_xticks(np.arange(0.5,10.5,1))\n",
    "ax.set_xticklabels(range(1,11,1))\n",
    "ax.set_yticklabels(range(10,0,-1))\n",
    "axes[-1,0].set_ylabel(\"perception time\")\n",
    "\n",
    "\n",
    "# fig.tight_layout(pad=0.5)\n",
    "cbaxes = fig.add_axes([0.6, 0.1, 0.3, 0.01]) \n",
    "cb = plt.colorbar(im, cax = cbaxes,orientation=\"horizontal\", ticks=[0,0.5,1])  \n",
    "cbaxes.set_ylabel(\"probability\", rotation=0, va=\"center\",labelpad=60)\n",
    "\n",
    "# fig.savefig(\"figs/tones_cool_n%02d.pdf\"%(np.round(noise_x*100)), pad_inches=0,\n",
    "#            bbox_inches = 'tight')"
   ]
  },
  {
   "cell_type": "code",
   "execution_count": null,
   "metadata": {},
   "outputs": [],
   "source": []
  }
 ],
 "metadata": {
  "kernelspec": {
   "display_name": "Python [conda env:ddc_ssm_3]",
   "language": "python",
   "name": "conda-env-ddc_ssm_3-py"
  },
  "language_info": {
   "codemirror_mode": {
    "name": "ipython",
    "version": 3
   },
   "file_extension": ".py",
   "mimetype": "text/x-python",
   "name": "python",
   "nbconvert_exporter": "python",
   "pygments_lexer": "ipython3",
   "version": "3.6.7"
  }
 },
 "nbformat": 4,
 "nbformat_minor": 2
}
